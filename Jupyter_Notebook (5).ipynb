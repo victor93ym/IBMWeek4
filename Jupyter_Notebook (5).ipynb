{
 "cells": [
  {
   "cell_type": "markdown",
   "metadata": {},
   "source": [
    "<center>\n",
    "    <img src=\"https://s3-api.us-geo.objectstorage.softlayer.net/cf-courses-data/CognitiveClass/Logos/organization_logo/organization_logo.png\" width=\"300\" alt=\"cognitiveclass.ai logo\"  />\n",
    "</center>\n"
   ]
  },
  {
   "cell_type": "markdown",
   "metadata": {},
   "source": [
    "#### Add your code below following the instructions given in the course\n"
   ]
  },
  {
   "cell_type": "code",
   "execution_count": 2,
   "metadata": {},
   "outputs": [
    {
     "data": {
      "text/html": [
       "<h1>My Jupyter Notebook on IBM Watson Studio</h1>\n"
      ],
      "text/plain": [
       "<IPython.core.display.HTML object>"
      ]
     },
     "metadata": {},
     "output_type": "display_data"
    }
   ],
   "source": [
    "%%html\n",
    "<h1>My Jupyter Notebook on IBM Watson Studio</h1>"
   ]
  },
  {
   "cell_type": "code",
   "execution_count": 3,
   "metadata": {},
   "outputs": [
    {
     "data": {
      "text/html": [
       "<strong>Victor Miguel Yescas Mejia</strong> <u>Data scientist jr </u>\n"
      ],
      "text/plain": [
       "<IPython.core.display.HTML object>"
      ]
     },
     "metadata": {},
     "output_type": "display_data"
    }
   ],
   "source": [
    "%%html\n",
    "<strong>Victor Miguel Yescas Mejia</strong> <u>Data scientist jr </u>"
   ]
  },
  {
   "cell_type": "code",
   "execution_count": 4,
   "metadata": {},
   "outputs": [
    {
     "data": {
      "text/html": [
       "<br>I am interested in data science because I found the perfect ocupation for me, I am a person who loves visual content,\n",
       "I'm curious about whot to find new ways to solve problems, I'm keen on computing skills and stitatics. Currently\n",
       "I have the chance to find alternatives on current process that already exist on my company and finally y create a showcase about how my ferecast\n",
       "can prevent risky activties or fraud transactions.</br>\n"
      ],
      "text/plain": [
       "<IPython.core.display.HTML object>"
      ]
     },
     "metadata": {},
     "output_type": "display_data"
    }
   ],
   "source": [
    "%%html\n",
    "<br>I am interested in data science because I found the perfect ocupation for me, I am a person who loves visual content,\n",
    "I'm curious about whot to find new ways to solve problems, I'm keen on computing skills and stitatics. Currently\n",
    "I have the chance to find alternatives on current process that already exist on my company and finally y create a showcase about how my ferecast\n",
    "can prevent risky activties or fraud transactions.</br>"
   ]
  },
  {
   "cell_type": "code",
   "execution_count": 5,
   "metadata": {},
   "outputs": [
    {
     "data": {
      "text/html": [
       "<h3>To create a simple summ we just need to asign values and print the result</h3>\n"
      ],
      "text/plain": [
       "<IPython.core.display.HTML object>"
      ]
     },
     "metadata": {},
     "output_type": "display_data"
    }
   ],
   "source": [
    "%%html\n",
    "<h3>To create a simple summ we just need to asign values and print the result</h3>"
   ]
  },
  {
   "cell_type": "code",
   "execution_count": 6,
   "metadata": {},
   "outputs": [
    {
     "name": "stdout",
     "output_type": "stream",
     "text": [
      "78\n"
     ]
    }
   ],
   "source": [
    "a= 23\n",
    "b=55\n",
    "c= a+b\n",
    "print (c)"
   ]
  },
  {
   "cell_type": "markdown",
   "metadata": {
    "tags": []
   },
   "source": [
    "%%html\n",
    "<h3>Languages that you can run at Jupyter notebook:</h3>\n",
    "\n",
    "<ul>\n",
    "  <li>Pÿthon</li>\n",
    "  <li>Julia</li>\n",
    "  <li>Scala</li>\n",
    "  <li>R</li>\n",
    "  <li>Others</li>\n",
    "</ul>\n",
    "\n",
    "<a href=\"https://jupyter4edu.github.io/jupyter-edu-book/jupyter.html\">Documentation</a></br>\n",
    "\n",
    "<a href=\"default.asp\">\n",
    "  <img src=\"https://files.realpython.com/media/Introduction-to-Jupyter-Notebooks_Watermarked.16bb2cf21ca5.jpg\" alt=\"HTML tutorial\" style=\"width:720px;height:420px;\">\n",
    "</a>\n",
    "\n"
   ]
  }
 ],
 "metadata": {
  "kernelspec": {
   "display_name": "Python",
   "language": "python",
   "name": "conda-env-python-py"
  },
  "language_info": {
   "codemirror_mode": {
    "name": "ipython",
    "version": 3
   },
   "file_extension": ".py",
   "mimetype": "text/x-python",
   "name": "python",
   "nbconvert_exporter": "python",
   "pygments_lexer": "ipython3",
   "version": "3.7.12"
  }
 },
 "nbformat": 4,
 "nbformat_minor": 4
}
